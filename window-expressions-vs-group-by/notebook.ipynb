{
  "nbformat": 4,
  "nbformat_minor": 0,
  "metadata": {
    "colab": {
      "provenance": []
    },
    "kernelspec": {
      "name": "python3",
      "display_name": "Python 3"
    },
    "language_info": {
      "name": "python"
    }
  },
  "cells": [
    {
      "cell_type": "code",
      "source": [
        "!pip install pyspark"
      ],
      "metadata": {
        "colab": {
          "base_uri": "https://localhost:8080/"
        },
        "id": "6QrHQAMUQCH5",
        "outputId": "1ade7cb6-7dd3-4337-9424-74093e6854d7"
      },
      "execution_count": 3,
      "outputs": [
        {
          "output_type": "stream",
          "name": "stdout",
          "text": [
            "Collecting pyspark\n",
            "  Downloading pyspark-3.4.1.tar.gz (310.8 MB)\n",
            "\u001b[2K     \u001b[90m━━━━━━━━━━━━━━━━━━━━━━━━━━━━━━━━━━━━━━━\u001b[0m \u001b[32m310.8/310.8 MB\u001b[0m \u001b[31m3.4 MB/s\u001b[0m eta \u001b[36m0:00:00\u001b[0m\n",
            "\u001b[?25h  Preparing metadata (setup.py) ... \u001b[?25l\u001b[?25hdone\n",
            "Requirement already satisfied: py4j==0.10.9.7 in /usr/local/lib/python3.10/dist-packages (from pyspark) (0.10.9.7)\n",
            "Building wheels for collected packages: pyspark\n",
            "  Building wheel for pyspark (setup.py) ... \u001b[?25l\u001b[?25hdone\n",
            "  Created wheel for pyspark: filename=pyspark-3.4.1-py2.py3-none-any.whl size=311285388 sha256=132ead334bb01688a71235ccc718df161efc8fceba11783c9d88b8ccc9cda185\n",
            "  Stored in directory: /root/.cache/pip/wheels/0d/77/a3/ff2f74cc9ab41f8f594dabf0579c2a7c6de920d584206e0834\n",
            "Successfully built pyspark\n",
            "Installing collected packages: pyspark\n",
            "Successfully installed pyspark-3.4.1\n"
          ]
        }
      ]
    },
    {
      "cell_type": "code",
      "execution_count": 8,
      "metadata": {
        "id": "gUQLTYyzPqSA"
      },
      "outputs": [],
      "source": [
        "from pyspark.sql import SparkSession\n",
        "from pyspark.sql.window import Window\n",
        "import pyspark.sql.functions as F\n",
        "\n",
        "spark = SparkSession.builder.appName(\"WindowExample\").getOrCreate()\n",
        "\n",
        "data = [(1, \"Product A\", 100),\n",
        " (2, \"Product B\", 150),\n",
        " (3, \"Product C\", 200),\n",
        " (4, \"Product D\", 120)]\n",
        "columns = [\"product_id\", \"product_name\", \"revenue\"]\n",
        "df = spark.createDataFrame(data, columns)"
      ]
    },
    {
      "cell_type": "code",
      "source": [
        "window_spec = Window.orderBy(\"product_id\")\n",
        "result = df.withColumn(\"total_revenue\", F.sum(\"revenue\").over(window_spec))\n",
        "result.show()"
      ],
      "metadata": {
        "colab": {
          "base_uri": "https://localhost:8080/"
        },
        "id": "fioso9q5QK_g",
        "outputId": "95b5effc-8244-4c36-cd28-3d3344e8baaf"
      },
      "execution_count": 9,
      "outputs": [
        {
          "output_type": "stream",
          "name": "stdout",
          "text": [
            "+----------+------------+-------+-------------+\n",
            "|product_id|product_name|revenue|total_revenue|\n",
            "+----------+------------+-------+-------------+\n",
            "|         1|   Product A|    100|          100|\n",
            "|         2|   Product B|    150|          250|\n",
            "|         3|   Product C|    200|          450|\n",
            "|         4|   Product D|    120|          570|\n",
            "+----------+------------+-------+-------------+\n",
            "\n"
          ]
        }
      ]
    },
    {
      "cell_type": "code",
      "source": [
        "window_spec = Window.partitionBy(\"product_name\").orderBy(\"revenue\")\n",
        "result = df.withColumn(\"rank\", F.rank().over(window_spec))\n",
        "result.show()"
      ],
      "metadata": {
        "colab": {
          "base_uri": "https://localhost:8080/"
        },
        "id": "u3A2Sn3RSYi5",
        "outputId": "659c4909-eafa-4666-8cc7-ebd1799b8eff"
      },
      "execution_count": 13,
      "outputs": [
        {
          "output_type": "stream",
          "name": "stdout",
          "text": [
            "+----------+------------+-------+----+\n",
            "|product_id|product_name|revenue|rank|\n",
            "+----------+------------+-------+----+\n",
            "|         1|   Product A|    100|   1|\n",
            "|         2|   Product B|    150|   1|\n",
            "|         3|   Product C|    200|   1|\n",
            "|         4|   Product D|    120|   1|\n",
            "+----------+------------+-------+----+\n",
            "\n"
          ]
        }
      ]
    },
    {
      "cell_type": "code",
      "source": [
        "window_spec = Window.orderBy(\"product_id\").rowsBetween(-1, 1)\n",
        "result = df.withColumn(\"moving_avg\", F.avg(\"revenue\").over(window_spec))\n",
        "result.show()"
      ],
      "metadata": {
        "colab": {
          "base_uri": "https://localhost:8080/"
        },
        "id": "rhbR0aNKSZCH",
        "outputId": "0600312e-2bfd-4b86-9e2a-d304517836cd"
      },
      "execution_count": 14,
      "outputs": [
        {
          "output_type": "stream",
          "name": "stdout",
          "text": [
            "+----------+------------+-------+------------------+\n",
            "|product_id|product_name|revenue|        moving_avg|\n",
            "+----------+------------+-------+------------------+\n",
            "|         1|   Product A|    100|             125.0|\n",
            "|         2|   Product B|    150|             150.0|\n",
            "|         3|   Product C|    200|156.66666666666666|\n",
            "|         4|   Product D|    120|             160.0|\n",
            "+----------+------------+-------+------------------+\n",
            "\n"
          ]
        }
      ]
    },
    {
      "cell_type": "code",
      "source": [
        "import time\n",
        "\n",
        "start_time = time.time()\n",
        "grouped_df = df.groupBy(\"product_name\").agg(F.sum(\"revenue\"))\n",
        "group_by_time = time.time() - start_time\n",
        "\n",
        "start_time = time.time()\n",
        "window_spec = Window.partitionBy(\"product_name\")\n",
        "windowed_df = df.withColumn(\"total_revenue\", F.sum(\"revenue\").over(window_spec))\n",
        "window_time = time.time() - start_time\n",
        "\n",
        "print(f\"Time taken for GROUP BY: {group_by_time:.4f} seconds\")\n",
        "print(f\"Time taken for Window Expression: {window_time:.4f} seconds\")"
      ],
      "metadata": {
        "colab": {
          "base_uri": "https://localhost:8080/"
        },
        "id": "JWjgvGbkQcfh",
        "outputId": "e9b366be-2a1b-4bb3-9c90-6d688085cb82"
      },
      "execution_count": 12,
      "outputs": [
        {
          "output_type": "stream",
          "name": "stdout",
          "text": [
            "Time taken for GROUP BY: 0.0720 seconds\n",
            "Time taken for Window Expression: 0.0391 seconds\n"
          ]
        }
      ]
    }
  ]
}